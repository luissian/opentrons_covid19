{
 "cells": [
  {
   "cell_type": "code",
   "execution_count": 3,
   "metadata": {},
   "outputs": [
    {
     "name": "stderr",
     "output_type": "stream",
     "text": [
      "This is intended to run on a robot, and while it can connect to a smoothie via a usb/serial adapter unexpected things using gpios (such as smoothie reset or light management) will fail\n",
      "C:\\Users\\Adm\\.opentrons\\deck_calibration.json not found. Loading defaults\n",
      "C:\\Users\\Adm\\.opentrons\\robot_settings.json not found. Loading defaults\n",
      "Failed to initiate aionotify, cannot watch modules,likely because not running on linux\n",
      "Exception in Thread Manager build\n",
      "Traceback (most recent call last):\n",
      "  File \"C:\\Users\\Adm\\anaconda3\\lib\\site-packages\\opentrons\\hardware_control\\thread_manager.py\", line 125, in _build_and_start_loop\n",
      "    **kwargs))\n",
      "  File \"C:\\Users\\Adm\\anaconda3\\lib\\asyncio\\base_events.py\", line 583, in run_until_complete\n",
      "    return future.result()\n",
      "  File \"C:\\Users\\Adm\\anaconda3\\lib\\site-packages\\opentrons\\hardware_control\\api.py\", line 95, in build_hardware_controller\n",
      "    await backend.connect(port)\n",
      "  File \"C:\\Users\\Adm\\anaconda3\\lib\\site-packages\\opentrons\\hardware_control\\controller.py\", line 183, in connect\n",
      "    self._smoothie_driver.connect(port)\n",
      "  File \"C:\\Users\\Adm\\anaconda3\\lib\\site-packages\\opentrons\\drivers\\smoothie_drivers\\driver_3_0.py\", line 570, in connect\n",
      "    self._connect_to_port(port)\n",
      "  File \"C:\\Users\\Adm\\anaconda3\\lib\\site-packages\\opentrons\\drivers\\smoothie_drivers\\driver_3_0.py\", line 590, in _connect_to_port\n",
      "    baudrate=self._config.serial_speed\n",
      "  File \"C:\\Users\\Adm\\anaconda3\\lib\\site-packages\\opentrons\\drivers\\serial_communication.py\", line 127, in connect\n",
      "    port = get_ports_by_name(device_name=device_name)[0]\n",
      "IndexError: list index out of range\n"
     ]
    },
    {
     "ename": "ThreadManagerException",
     "evalue": "Failed to create Managed Object",
     "output_type": "error",
     "traceback": [
      "\u001b[1;31m---------------------------------------------------------------------------\u001b[0m",
      "\u001b[1;31mThreadManagerException\u001b[0m                    Traceback (most recent call last)",
      "\u001b[1;32m<ipython-input-3-955ae8ff29b1>\u001b[0m in \u001b[0;36m<module>\u001b[1;34m\u001b[0m\n\u001b[0;32m      2\u001b[0m \u001b[1;32mimport\u001b[0m \u001b[0mopentrons\u001b[0m\u001b[1;33m.\u001b[0m\u001b[0mexecute\u001b[0m\u001b[1;33m\u001b[0m\u001b[1;33m\u001b[0m\u001b[0m\n\u001b[0;32m      3\u001b[0m \u001b[1;33m\u001b[0m\u001b[0m\n\u001b[1;32m----> 4\u001b[1;33m \u001b[0mprotocol\u001b[0m \u001b[1;33m=\u001b[0m \u001b[0mopentrons\u001b[0m\u001b[1;33m.\u001b[0m\u001b[0mexecute\u001b[0m\u001b[1;33m.\u001b[0m\u001b[0mget_protocol_api\u001b[0m\u001b[1;33m(\u001b[0m\u001b[1;34m'2.0'\u001b[0m\u001b[1;33m)\u001b[0m\u001b[1;33m\u001b[0m\u001b[1;33m\u001b[0m\u001b[0m\n\u001b[0m\u001b[0;32m      5\u001b[0m \u001b[0mprotocol\u001b[0m\u001b[1;33m.\u001b[0m\u001b[0mhome\u001b[0m\u001b[1;33m(\u001b[0m\u001b[1;33m)\u001b[0m\u001b[1;33m\u001b[0m\u001b[1;33m\u001b[0m\u001b[0m\n\u001b[0;32m      6\u001b[0m \u001b[1;33m\u001b[0m\u001b[0m\n",
      "\u001b[1;32m~\\anaconda3\\lib\\site-packages\\opentrons\\execute.py\u001b[0m in \u001b[0;36mget_protocol_api\u001b[1;34m(version, bundled_labware, bundled_data, extra_labware)\u001b[0m\n\u001b[0;32m     84\u001b[0m         \u001b[1;31m# you can't control the loop from inside. If we update to\u001b[0m\u001b[1;33m\u001b[0m\u001b[1;33m\u001b[0m\u001b[1;33m\u001b[0m\u001b[0m\n\u001b[0;32m     85\u001b[0m         \u001b[1;31m# IPython 7 we can avoid this, but for now we can't\u001b[0m\u001b[1;33m\u001b[0m\u001b[1;33m\u001b[0m\u001b[1;33m\u001b[0m\u001b[0m\n\u001b[1;32m---> 86\u001b[1;33m         \u001b[0m_THREAD_MANAGED_HW\u001b[0m \u001b[1;33m=\u001b[0m \u001b[0mThreadManager\u001b[0m\u001b[1;33m(\u001b[0m\u001b[0mAPI\u001b[0m\u001b[1;33m.\u001b[0m\u001b[0mbuild_hardware_controller\u001b[0m\u001b[1;33m)\u001b[0m\u001b[1;33m\u001b[0m\u001b[1;33m\u001b[0m\u001b[0m\n\u001b[0m\u001b[0;32m     87\u001b[0m     \u001b[1;32mif\u001b[0m \u001b[0misinstance\u001b[0m\u001b[1;33m(\u001b[0m\u001b[0mversion\u001b[0m\u001b[1;33m,\u001b[0m \u001b[0mstr\u001b[0m\u001b[1;33m)\u001b[0m\u001b[1;33m:\u001b[0m\u001b[1;33m\u001b[0m\u001b[1;33m\u001b[0m\u001b[0m\n\u001b[0;32m     88\u001b[0m         \u001b[0mchecked_version\u001b[0m \u001b[1;33m=\u001b[0m \u001b[0mversion_from_string\u001b[0m\u001b[1;33m(\u001b[0m\u001b[0mversion\u001b[0m\u001b[1;33m)\u001b[0m\u001b[1;33m\u001b[0m\u001b[1;33m\u001b[0m\u001b[0m\n",
      "\u001b[1;32m~\\anaconda3\\lib\\site-packages\\opentrons\\hardware_control\\thread_manager.py\u001b[0m in \u001b[0;36m__init__\u001b[1;34m(self, builder, *args, **kwargs)\u001b[0m\n\u001b[0;32m    114\u001b[0m         \u001b[1;31m# Thread initialization is done.\u001b[0m\u001b[1;33m\u001b[0m\u001b[1;33m\u001b[0m\u001b[1;33m\u001b[0m\u001b[0m\n\u001b[0;32m    115\u001b[0m         \u001b[1;32mif\u001b[0m \u001b[1;32mnot\u001b[0m \u001b[0mself\u001b[0m\u001b[1;33m.\u001b[0m\u001b[0mmanaged_obj\u001b[0m\u001b[1;33m:\u001b[0m\u001b[1;33m\u001b[0m\u001b[1;33m\u001b[0m\u001b[0m\n\u001b[1;32m--> 116\u001b[1;33m             \u001b[1;32mraise\u001b[0m \u001b[0mThreadManagerException\u001b[0m\u001b[1;33m(\u001b[0m\u001b[1;34m\"Failed to create Managed Object\"\u001b[0m\u001b[1;33m)\u001b[0m\u001b[1;33m\u001b[0m\u001b[1;33m\u001b[0m\u001b[0m\n\u001b[0m\u001b[0;32m    117\u001b[0m \u001b[1;33m\u001b[0m\u001b[0m\n\u001b[0;32m    118\u001b[0m     \u001b[1;32mdef\u001b[0m \u001b[0m_build_and_start_loop\u001b[0m\u001b[1;33m(\u001b[0m\u001b[0mself\u001b[0m\u001b[1;33m,\u001b[0m \u001b[0mbuilder\u001b[0m\u001b[1;33m,\u001b[0m \u001b[1;33m*\u001b[0m\u001b[0margs\u001b[0m\u001b[1;33m,\u001b[0m \u001b[1;33m**\u001b[0m\u001b[0mkwargs\u001b[0m\u001b[1;33m)\u001b[0m\u001b[1;33m:\u001b[0m\u001b[1;33m\u001b[0m\u001b[1;33m\u001b[0m\u001b[0m\n",
      "\u001b[1;31mThreadManagerException\u001b[0m: Failed to create Managed Object"
     ]
    }
   ],
   "source": [
    "from opentrons import protocol_api\n",
    "import opentrons.execute\n",
    "\n",
    "protocol = opentrons.execute.get_protocol_api('2.0')\n",
    "protocol.home()\n",
    "\n",
    "tips20 = [protocol.load_labware('opentrons_96_filtertiprack_20ul',3)]\n",
    "p20 = protocol.load_instrument(\"p20_single_gen2\",\"right\",tip_racks=tips20)\n",
    "\n",
    "mm_rack = protocol.load_labware('opentrons_24_aluminumblock_generic_2ml_screwcap',2,'mastermix rack')\n",
    "tube1 = mm_rack.wells()[0]\n",
    "tube2 = mm_rack.wells()[23]\n",
    "\n",
    "p20.pick_up_tip()\n",
    "p20.aspirate(5,tube1.top(2))\n",
    "p20.aspirate(15,tube1.bottom(2))\n",
    "p20.flow_rate.dispense = 400\n",
    "p20.dispense(20,tube2.top(-1))\n",
    "p20.flow_rate.blow_out = 4000\n",
    "p20.blow_out()\n",
    "#p20.aspirate(5,tube2.top(-1),rate=20)\n",
    "protocol.delay(seconds=7)\n",
    "p20.blow_out()\n",
    "p20.drop_tip()"
   ]
  },
  {
   "cell_type": "code",
   "execution_count": null,
   "metadata": {},
   "outputs": [],
   "source": []
  }
 ],
 "metadata": {
  "kernelspec": {
   "display_name": "Python 3",
   "language": "python",
   "name": "python3"
  },
  "language_info": {
   "codemirror_mode": {
    "name": "ipython",
    "version": 3
   },
   "file_extension": ".py",
   "mimetype": "text/x-python",
   "name": "python",
   "nbconvert_exporter": "python",
   "pygments_lexer": "ipython3",
   "version": "3.7.6"
  }
 },
 "nbformat": 4,
 "nbformat_minor": 2
}
