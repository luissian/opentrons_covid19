{
 "cells": [
  {
   "cell_type": "code",
   "execution_count": 8,
   "metadata": {},
   "outputs": [
    {
     "name": "stderr",
     "output_type": "stream",
     "text": [
      "/home/smonzon/.opentrons/deck_calibration.json not found. Loading defaults\n",
      "/home/smonzon/.opentrons/robot_settings.json not found. Loading defaults\n"
     ]
    }
   ],
   "source": [
    "from opentrons import simulate\n",
    "from opentrons.drivers.rpi_drivers import gpio\n",
    "import time\n",
    "import math\n",
    "\n",
    "robot = simulate.get_protocol_api('2.1')\n",
    "\n",
    "\n",
    "NUM_SAMPLES = 16\n",
    "LYSATE_LABWARE = 'opentrons plastic 2ml tubes'\n",
    "PLATE_LABWARE = 'opentrons deep generic well plate'\n",
    "VOLUME_LYSATE = 400\n",
    "BEADS = False\n",
    "LANGUAGE = 'esp'\n",
    "RESET_TIPCOUNT = False\n",
    "\n",
    "\n",
    "LY_LW_DICT = {\n",
    "    'opentrons plastic 2ml tubes': 'opentrons_24_tuberack_generic_2ml_screwcap'\n",
    "}\n",
    "\n",
    "PL_LW_DICT = {\n",
    "    'opentrons deep generic well plate': 'usascientific_96_wellplate_2.4ml_deep',\n",
    "    'nest deep generic well plate': 'nest_96_deepwellplate_2000ul',\n",
    "    'vwr deep generic well plate': 'vwr_96_deepwellplate_2000ul'\n",
    "}\n",
    "\n",
    "LYSTUBE_LW_DICT = {\n",
    "    # Radius of each possible tube\n",
    "    '2ml tubes': 4\n",
    "}"
   ]
  },
  {
   "cell_type": "code",
   "execution_count": 9,
   "metadata": {},
   "outputs": [],
   "source": [
    "tips1000 = [robot.load_labware('opentrons_96_filtertiprack_1000ul',\n",
    "                                     3, '1000µl tiprack')]\n",
    "\n",
    "# load pipette\n",
    "p1000 = robot.load_instrument(\n",
    "    'p1000_single_gen2', 'left', tip_racks=tips1000)\n",
    "\n",
    "# check source (LYSATE) labware type\n",
    "if LYSATE_LABWARE not in LY_LW_DICT:\n",
    "    raise Exception('Invalid LYSATE_LABWARE. Must be one of the \\\n",
    "following:\\nopentrons plastic 2ml tubes')\n",
    "# load LYSATE labware\n",
    "if 'plate' in LYSATE_LABWARE:\n",
    "    source_racks = robot.load_labware(\n",
    "        LY_LW_DICT[LYSATE_LABWARE], '1',\n",
    "        'RNA LYSATE labware')\n",
    "else:\n",
    "    source_racks = [\n",
    "        robot.load_labware(LY_LW_DICT[LYSATE_LABWARE], slot,\n",
    "                        'sample LYSATE labware ' + str(i+1))\n",
    "        for i, slot in enumerate(['4', '1', '5', '2'])\n",
    "]\n",
    "\n",
    "# check plate\n",
    "if PLATE_LABWARE not in PL_LW_DICT:\n",
    "    raise Exception('Invalid PLATE_LABWARE. Must be one of the \\\n",
    "following:\\nopentrons deep generic well plate\\nnest deep generic well plate\\nvwr deep generic well plate')\n",
    "\n",
    "# load pcr plate\n",
    "wells_plate = robot.load_labware(PL_LW_DICT[PLATE_LABWARE], 10,\n",
    "                'sample LYSATE well plate ')"
   ]
  },
  {
   "cell_type": "code",
   "execution_count": 61,
   "metadata": {},
   "outputs": [
    {
     "name": "stdout",
     "output_type": "stream",
     "text": [
      "[A1 of sample LYSATE labware 1 on 4, B1 of sample LYSATE labware 1 on 4, C1 of sample LYSATE labware 1 on 4, D1 of sample LYSATE labware 1 on 4, A1 of sample LYSATE labware 2 on 1, B1 of sample LYSATE labware 2 on 1, C1 of sample LYSATE labware 2 on 1, D1 of sample LYSATE labware 2 on 1, A2 of sample LYSATE labware 1 on 4, B2 of sample LYSATE labware 1 on 4, C2 of sample LYSATE labware 1 on 4, D2 of sample LYSATE labware 1 on 4, A2 of sample LYSATE labware 2 on 1, B2 of sample LYSATE labware 2 on 1, C2 of sample LYSATE labware 2 on 1, D2 of sample LYSATE labware 2 on 1]\n"
     ]
    }
   ],
   "source": [
    "#sources = [tube for s in source_racks for tube in s.wells()][:NUM_SAMPLES]\n",
    "sources = []\n",
    "\n",
    "tubes = source_racks[0].wells()\n",
    "#print(tubes)\n",
    "#print(source_racks[2:5])\n",
    "for i in range(0,24,4):\n",
    "    for rack in source_racks[:2]:\n",
    "        sources = sources + rack.wells()[i:i+4]    \n",
    "\n",
    "for i in range(0,24,4):\n",
    "    for rack in source_racks[2:5]:\n",
    "        sources = sources + rack.wells()[i:i+4]\n",
    "\n",
    "print(sources[:NUM_SAMPLES])"
   ]
  },
  {
   "cell_type": "code",
   "execution_count": null,
   "metadata": {},
   "outputs": [],
   "source": []
  }
 ],
 "metadata": {
  "kernelspec": {
   "display_name": "Python 3",
   "language": "python",
   "name": "python3"
  },
  "language_info": {
   "codemirror_mode": {
    "name": "ipython",
    "version": 3
   },
   "file_extension": ".py",
   "mimetype": "text/x-python",
   "name": "python",
   "nbconvert_exporter": "python",
   "pygments_lexer": "ipython3",
   "version": "3.8.2"
  }
 },
 "nbformat": 4,
 "nbformat_minor": 4
}
