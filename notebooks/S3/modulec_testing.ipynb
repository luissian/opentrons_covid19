{
 "cells": [
  {
   "cell_type": "code",
   "execution_count": 8,
   "metadata": {},
   "outputs": [
    {
     "name": "stderr",
     "output_type": "stream",
     "text": [
      "C:\\Users\\Adm\\.opentrons\\deck_calibration.json not found. Loading defaults\n",
      "C:\\Users\\Adm\\.opentrons\\robot_settings.json not found. Loading defaults\n"
     ]
    }
   ],
   "source": [
    "from opentrons import simulate\n",
    "ctx = simulate.get_protocol_api('2.1')\n",
    "\n",
    "NUM_SAMPLES = 48\n",
    "VOLUME_MMIX = 20\n",
    "ELUTION_LABWARE = '2ml tubes'\n",
    "PREPARE_MASTERMIX = True\n",
    "MM_TYPE = 'MM1'\n",
    "\n",
    "EL_LW_DICT = {\n",
    "    'large strips': 'opentrons_96_aluminumblock_generic_pcr_strip_200ul',\n",
    "    'short strips': 'opentrons_96_aluminumblock_generic_pcr_strip_200ul',\n",
    "    '2ml tubes': 'opentrons_24_tuberack_generic_2ml_screwcap',\n",
    "    '1.5ml tubes': 'opentrons_24_tuberack_nest_1.5ml_screwcap'\n",
    "}\n"
   ]
  },
  {
   "cell_type": "code",
   "execution_count": 19,
   "metadata": {
    "collapsed": true
   },
   "outputs": [
    {
     "name": "stdout",
     "output_type": "stream",
     "text": [
      "[RNA elution labware 1 on 4, RNA elution labware 2 on 5, RNA elution labware 3 on 1, RNA elution labware 4 on 2]\n",
      "Opentrons 96 Filter Tip Rack 20 µL on 6\n",
      "[Opentrons 96 Filter Tip Rack 200 µL on 3]\n",
      "P300 Single-Channel GEN2 on left mount\n"
     ]
    }
   ],
   "source": []
  },
  {
   "cell_type": "code",
   "execution_count": 2,
   "metadata": {},
   "outputs": [],
   "source": [
    "    source_racks = [\n",
    "        ctx.load_labware(EL_LW_DICT[ELUTION_LABWARE], slot,\n",
    "                         'RNA elution labware ' + str(i+1))\n",
    "        for i, slot in enumerate(['4', '5', '1', '2'])\n",
    "    ]\n",
    "\n",
    "    tips20 = [\n",
    "        ctx.load_labware('opentrons_96_filtertiprack_20ul', slot)\n",
    "        for slot in ['6', '9', '8', '7']\n",
    "    ]\n",
    "    tips300 = [ctx.load_labware('opentrons_96_filtertiprack_200ul', '3')]\n",
    "    tempdeck = ctx.load_module('tempdeck', '10')\n",
    "    pcr_plate = tempdeck.load_labware(\n",
    "        'biorad_96_wellplate_200ul_pcr', 'PCR plate')\n",
    "    tempdeck.set_temperature(4)\n",
    "    mm_rack = ctx.load_labware(\n",
    "        'opentrons_24_tuberack_generic_2ml_screwcap', '11',\n",
    "        '2ml screw tube aluminum block for mastermix')\n",
    "\n",
    "    # pipette\n",
    "    p20 = ctx.load_instrument('p20_single_gen2', 'right', tip_racks=tips20)\n",
    "    p300 = ctx.load_instrument('p300_single_gen2', 'left', tip_racks=tips300)\n"
   ]
  },
  {
   "cell_type": "code",
   "execution_count": 3,
   "metadata": {},
   "outputs": [
    {
     "name": "stdout",
     "output_type": "stream",
     "text": [
      "[RNA elution labware 1 on 4, RNA elution labware 2 on 5, RNA elution labware 3 on 1, RNA elution labware 4 on 2]\n",
      "[Opentrons 96 Filter Tip Rack 20 µL on 6, Opentrons 96 Filter Tip Rack 20 µL on 9, Opentrons 96 Filter Tip Rack 20 µL on 8, Opentrons 96 Filter Tip Rack 20 µL on 7]\n",
      "[Opentrons 96 Filter Tip Rack 200 µL on 3]\n",
      "TemperatureModuleContext at Temperature Module on 10 lw PCR plate on Temperature Module on 10\n",
      "PCR plate on Temperature Module on 10\n",
      "2ml screw tube aluminum block for mastermix on 11\n"
     ]
    }
   ],
   "source": [
    "print(source_racks)\n",
    "print(tips20)\n",
    "print(tips300)\n",
    "print(tempdeck)\n",
    "print(pcr_plate)\n",
    "print(mm_rack)"
   ]
  },
  {
   "cell_type": "code",
   "execution_count": 4,
   "metadata": {},
   "outputs": [
    {
     "data": {
      "text/plain": [
       "['__abstractmethods__',\n",
       " '__class__',\n",
       " '__delattr__',\n",
       " '__dict__',\n",
       " '__dir__',\n",
       " '__doc__',\n",
       " '__eq__',\n",
       " '__format__',\n",
       " '__ge__',\n",
       " '__getattribute__',\n",
       " '__getitem__',\n",
       " '__gt__',\n",
       " '__hash__',\n",
       " '__init__',\n",
       " '__init_subclass__',\n",
       " '__le__',\n",
       " '__lt__',\n",
       " '__module__',\n",
       " '__ne__',\n",
       " '__new__',\n",
       " '__reduce__',\n",
       " '__reduce_ex__',\n",
       " '__repr__',\n",
       " '__setattr__',\n",
       " '__sizeof__',\n",
       " '__slots__',\n",
       " '__str__',\n",
       " '__subclasshook__',\n",
       " '__weakref__',\n",
       " '_abc_impl',\n",
       " '_api_version',\n",
       " '_build_wells',\n",
       " '_calibrated_offset',\n",
       " '_create_indexed_dictionary',\n",
       " '_definition',\n",
       " '_dimensions',\n",
       " '_display_name',\n",
       " '_highest_z',\n",
       " '_is_tiprack',\n",
       " '_name',\n",
       " '_offset',\n",
       " '_ordering',\n",
       " '_parameters',\n",
       " '_parent',\n",
       " '_pattern',\n",
       " '_well_definition',\n",
       " '_wells',\n",
       " 'api_version',\n",
       " 'calibrated_offset',\n",
       " 'columns',\n",
       " 'columns_by_index',\n",
       " 'columns_by_name',\n",
       " 'highest_z',\n",
       " 'is_tiprack',\n",
       " 'load_name',\n",
       " 'magdeck_engage_height',\n",
       " 'name',\n",
       " 'next_tip',\n",
       " 'parameters',\n",
       " 'parent',\n",
       " 'previous_tip',\n",
       " 'quirks',\n",
       " 'reset',\n",
       " 'return_tips',\n",
       " 'rows',\n",
       " 'rows_by_index',\n",
       " 'rows_by_name',\n",
       " 'separate_calibration',\n",
       " 'set_calibration',\n",
       " 'tip_length',\n",
       " 'uri',\n",
       " 'use_tips',\n",
       " 'well',\n",
       " 'wells',\n",
       " 'wells_by_index',\n",
       " 'wells_by_name']"
      ]
     },
     "execution_count": 4,
     "metadata": {},
     "output_type": "execute_result"
    }
   ],
   "source": [
    "\n",
    "# Know which class cames the object from.\n",
    "mm_rack.__class__\n",
    "# Know which methods are available for the object.\n",
    "dir(mm_rack)"
   ]
  },
  {
   "cell_type": "code",
   "execution_count": 5,
   "metadata": {},
   "outputs": [
    {
     "data": {
      "text/plain": [
       "[A1 of 2ml screw tube aluminum block for mastermix on 11,\n",
       " B1 of 2ml screw tube aluminum block for mastermix on 11,\n",
       " C1 of 2ml screw tube aluminum block for mastermix on 11,\n",
       " D1 of 2ml screw tube aluminum block for mastermix on 11,\n",
       " A2 of 2ml screw tube aluminum block for mastermix on 11,\n",
       " B2 of 2ml screw tube aluminum block for mastermix on 11,\n",
       " C2 of 2ml screw tube aluminum block for mastermix on 11,\n",
       " D2 of 2ml screw tube aluminum block for mastermix on 11,\n",
       " A3 of 2ml screw tube aluminum block for mastermix on 11,\n",
       " B3 of 2ml screw tube aluminum block for mastermix on 11,\n",
       " C3 of 2ml screw tube aluminum block for mastermix on 11,\n",
       " D3 of 2ml screw tube aluminum block for mastermix on 11,\n",
       " A4 of 2ml screw tube aluminum block for mastermix on 11,\n",
       " B4 of 2ml screw tube aluminum block for mastermix on 11,\n",
       " C4 of 2ml screw tube aluminum block for mastermix on 11,\n",
       " D4 of 2ml screw tube aluminum block for mastermix on 11,\n",
       " A5 of 2ml screw tube aluminum block for mastermix on 11,\n",
       " B5 of 2ml screw tube aluminum block for mastermix on 11,\n",
       " C5 of 2ml screw tube aluminum block for mastermix on 11,\n",
       " D5 of 2ml screw tube aluminum block for mastermix on 11,\n",
       " A6 of 2ml screw tube aluminum block for mastermix on 11,\n",
       " B6 of 2ml screw tube aluminum block for mastermix on 11,\n",
       " C6 of 2ml screw tube aluminum block for mastermix on 11,\n",
       " D6 of 2ml screw tube aluminum block for mastermix on 11]"
      ]
     },
     "execution_count": 5,
     "metadata": {},
     "output_type": "execute_result"
    }
   ],
   "source": [
    "# Example, access wells in rack object.\n",
    "mm_rack.wells()"
   ]
  },
  {
   "cell_type": "code",
   "execution_count": 6,
   "metadata": {},
   "outputs": [
    {
     "name": "stdout",
     "output_type": "stream",
     "text": [
      "[A1 of RNA elution labware 1 on 4, B1 of RNA elution labware 1 on 4, C1 of RNA elution labware 1 on 4, D1 of RNA elution labware 1 on 4, A2 of RNA elution labware 1 on 4, B2 of RNA elution labware 1 on 4, C2 of RNA elution labware 1 on 4, D2 of RNA elution labware 1 on 4, A3 of RNA elution labware 1 on 4, B3 of RNA elution labware 1 on 4, C3 of RNA elution labware 1 on 4, D3 of RNA elution labware 1 on 4, A4 of RNA elution labware 1 on 4, B4 of RNA elution labware 1 on 4, C4 of RNA elution labware 1 on 4, D4 of RNA elution labware 1 on 4, A5 of RNA elution labware 1 on 4, B5 of RNA elution labware 1 on 4, C5 of RNA elution labware 1 on 4, D5 of RNA elution labware 1 on 4, A6 of RNA elution labware 1 on 4, B6 of RNA elution labware 1 on 4, C6 of RNA elution labware 1 on 4, D6 of RNA elution labware 1 on 4, A1 of RNA elution labware 2 on 5, B1 of RNA elution labware 2 on 5, C1 of RNA elution labware 2 on 5, D1 of RNA elution labware 2 on 5, A2 of RNA elution labware 2 on 5, B2 of RNA elution labware 2 on 5, C2 of RNA elution labware 2 on 5, D2 of RNA elution labware 2 on 5, A3 of RNA elution labware 2 on 5, B3 of RNA elution labware 2 on 5, C3 of RNA elution labware 2 on 5, D3 of RNA elution labware 2 on 5, A4 of RNA elution labware 2 on 5, B4 of RNA elution labware 2 on 5, C4 of RNA elution labware 2 on 5, D4 of RNA elution labware 2 on 5, A5 of RNA elution labware 2 on 5, B5 of RNA elution labware 2 on 5, C5 of RNA elution labware 2 on 5, D5 of RNA elution labware 2 on 5, A6 of RNA elution labware 2 on 5, B6 of RNA elution labware 2 on 5, C6 of RNA elution labware 2 on 5, D6 of RNA elution labware 2 on 5]\n"
     ]
    }
   ],
   "source": [
    "sources = [\n",
    "    tube\n",
    "    for rack in source_racks for tube in rack.wells()][:NUM_SAMPLES]\n",
    "print(sources)"
   ]
  },
  {
   "cell_type": "code",
   "execution_count": 7,
   "metadata": {},
   "outputs": [
    {
     "name": "stdout",
     "output_type": "stream",
     "text": [
      "[A1 of RNA elution labware 1 on 4, B1 of RNA elution labware 1 on 4, C1 of RNA elution labware 1 on 4, D1 of RNA elution labware 1 on 4, A2 of RNA elution labware 1 on 4, B2 of RNA elution labware 1 on 4, C2 of RNA elution labware 1 on 4, D2 of RNA elution labware 1 on 4, A3 of RNA elution labware 1 on 4, B3 of RNA elution labware 1 on 4, C3 of RNA elution labware 1 on 4, D3 of RNA elution labware 1 on 4, A4 of RNA elution labware 1 on 4, B4 of RNA elution labware 1 on 4, C4 of RNA elution labware 1 on 4, D4 of RNA elution labware 1 on 4, A5 of RNA elution labware 1 on 4, B5 of RNA elution labware 1 on 4, C5 of RNA elution labware 1 on 4, D5 of RNA elution labware 1 on 4, A6 of RNA elution labware 1 on 4, B6 of RNA elution labware 1 on 4, C6 of RNA elution labware 1 on 4, D6 of RNA elution labware 1 on 4, A1 of RNA elution labware 2 on 5, B1 of RNA elution labware 2 on 5, C1 of RNA elution labware 2 on 5, D1 of RNA elution labware 2 on 5, A2 of RNA elution labware 2 on 5, B2 of RNA elution labware 2 on 5, C2 of RNA elution labware 2 on 5, D2 of RNA elution labware 2 on 5, A3 of RNA elution labware 2 on 5, B3 of RNA elution labware 2 on 5, C3 of RNA elution labware 2 on 5, D3 of RNA elution labware 2 on 5, A4 of RNA elution labware 2 on 5, B4 of RNA elution labware 2 on 5, C4 of RNA elution labware 2 on 5, D4 of RNA elution labware 2 on 5, A5 of RNA elution labware 2 on 5, B5 of RNA elution labware 2 on 5, C5 of RNA elution labware 2 on 5, D5 of RNA elution labware 2 on 5, A6 of RNA elution labware 2 on 5, B6 of RNA elution labware 2 on 5, C6 of RNA elution labware 2 on 5, D6 of RNA elution labware 2 on 5]\n"
     ]
    }
   ],
   "source": [
    "sources=list()\n",
    "for rack in source_racks:\n",
    "    for tube in rack.wells():\n",
    "        sources.append(tube)\n",
    "print(sources[:NUM_SAMPLES])"
   ]
  },
  {
   "cell_type": "code",
   "execution_count": 35,
   "metadata": {},
   "outputs": [
    {
     "name": "stdout",
     "output_type": "stream",
     "text": [
      "[A1 of PCR plate on Temperature Module on 10, B1 of PCR plate on Temperature Module on 10, C1 of PCR plate on Temperature Module on 10, D1 of PCR plate on Temperature Module on 10, A2 of PCR plate on Temperature Module on 10, B2 of PCR plate on Temperature Module on 10, C2 of PCR plate on Temperature Module on 10, D2 of PCR plate on Temperature Module on 10, A3 of PCR plate on Temperature Module on 10, B3 of PCR plate on Temperature Module on 10, C3 of PCR plate on Temperature Module on 10, D3 of PCR plate on Temperature Module on 10, A4 of PCR plate on Temperature Module on 10, B4 of PCR plate on Temperature Module on 10, C4 of PCR plate on Temperature Module on 10, D4 of PCR plate on Temperature Module on 10, A5 of PCR plate on Temperature Module on 10, B5 of PCR plate on Temperature Module on 10, C5 of PCR plate on Temperature Module on 10, D5 of PCR plate on Temperature Module on 10, A6 of PCR plate on Temperature Module on 10, B6 of PCR plate on Temperature Module on 10, C6 of PCR plate on Temperature Module on 10, D6 of PCR plate on Temperature Module on 10, A7 of PCR plate on Temperature Module on 10, B7 of PCR plate on Temperature Module on 10, C7 of PCR plate on Temperature Module on 10, D7 of PCR plate on Temperature Module on 10, A8 of PCR plate on Temperature Module on 10, B8 of PCR plate on Temperature Module on 10, C8 of PCR plate on Temperature Module on 10, D8 of PCR plate on Temperature Module on 10, A9 of PCR plate on Temperature Module on 10, B9 of PCR plate on Temperature Module on 10, C9 of PCR plate on Temperature Module on 10, D9 of PCR plate on Temperature Module on 10, A10 of PCR plate on Temperature Module on 10, B10 of PCR plate on Temperature Module on 10, C10 of PCR plate on Temperature Module on 10, D10 of PCR plate on Temperature Module on 10, A11 of PCR plate on Temperature Module on 10, B11 of PCR plate on Temperature Module on 10, C11 of PCR plate on Temperature Module on 10, D11 of PCR plate on Temperature Module on 10, A12 of PCR plate on Temperature Module on 10, B12 of PCR plate on Temperature Module on 10, C12 of PCR plate on Temperature Module on 10, D12 of PCR plate on Temperature Module on 10]\n"
     ]
    }
   ],
   "source": [
    "dests = [\n",
    "    well\n",
    "    for h_block in range(2)\n",
    "    for v_block in range(2)\n",
    "    for col in pcr_plate.columns()[6*v_block:6*(v_block+1)]\n",
    "    for well in col[4*h_block:4*(h_block+1)]][:NUM_SAMPLES]\n",
    "print(dests)"
   ]
  },
  {
   "cell_type": "code",
   "execution_count": 36,
   "metadata": {
    "scrolled": false
   },
   "outputs": [
    {
     "name": "stdout",
     "output_type": "stream",
     "text": [
      "hblock = 0\n",
      "vblock = 0\n",
      "col = [A1 of PCR plate on Temperature Module on 10, B1 of PCR plate on Temperature Module on 10, C1 of PCR plate on Temperature Module on 10, D1 of PCR plate on Temperature Module on 10, E1 of PCR plate on Temperature Module on 10, F1 of PCR plate on Temperature Module on 10, G1 of PCR plate on Temperature Module on 10, H1 of PCR plate on Temperature Module on 10]\n",
      "A1 of PCR plate on Temperature Module on 10\n",
      "B1 of PCR plate on Temperature Module on 10\n",
      "C1 of PCR plate on Temperature Module on 10\n",
      "D1 of PCR plate on Temperature Module on 10\n",
      "col = [A2 of PCR plate on Temperature Module on 10, B2 of PCR plate on Temperature Module on 10, C2 of PCR plate on Temperature Module on 10, D2 of PCR plate on Temperature Module on 10, E2 of PCR plate on Temperature Module on 10, F2 of PCR plate on Temperature Module on 10, G2 of PCR plate on Temperature Module on 10, H2 of PCR plate on Temperature Module on 10]\n",
      "A2 of PCR plate on Temperature Module on 10\n",
      "B2 of PCR plate on Temperature Module on 10\n",
      "C2 of PCR plate on Temperature Module on 10\n",
      "D2 of PCR plate on Temperature Module on 10\n",
      "col = [A3 of PCR plate on Temperature Module on 10, B3 of PCR plate on Temperature Module on 10, C3 of PCR plate on Temperature Module on 10, D3 of PCR plate on Temperature Module on 10, E3 of PCR plate on Temperature Module on 10, F3 of PCR plate on Temperature Module on 10, G3 of PCR plate on Temperature Module on 10, H3 of PCR plate on Temperature Module on 10]\n",
      "A3 of PCR plate on Temperature Module on 10\n",
      "B3 of PCR plate on Temperature Module on 10\n",
      "C3 of PCR plate on Temperature Module on 10\n",
      "D3 of PCR plate on Temperature Module on 10\n",
      "col = [A4 of PCR plate on Temperature Module on 10, B4 of PCR plate on Temperature Module on 10, C4 of PCR plate on Temperature Module on 10, D4 of PCR plate on Temperature Module on 10, E4 of PCR plate on Temperature Module on 10, F4 of PCR plate on Temperature Module on 10, G4 of PCR plate on Temperature Module on 10, H4 of PCR plate on Temperature Module on 10]\n",
      "A4 of PCR plate on Temperature Module on 10\n",
      "B4 of PCR plate on Temperature Module on 10\n",
      "C4 of PCR plate on Temperature Module on 10\n",
      "D4 of PCR plate on Temperature Module on 10\n",
      "col = [A5 of PCR plate on Temperature Module on 10, B5 of PCR plate on Temperature Module on 10, C5 of PCR plate on Temperature Module on 10, D5 of PCR plate on Temperature Module on 10, E5 of PCR plate on Temperature Module on 10, F5 of PCR plate on Temperature Module on 10, G5 of PCR plate on Temperature Module on 10, H5 of PCR plate on Temperature Module on 10]\n",
      "A5 of PCR plate on Temperature Module on 10\n",
      "B5 of PCR plate on Temperature Module on 10\n",
      "C5 of PCR plate on Temperature Module on 10\n",
      "D5 of PCR plate on Temperature Module on 10\n",
      "col = [A6 of PCR plate on Temperature Module on 10, B6 of PCR plate on Temperature Module on 10, C6 of PCR plate on Temperature Module on 10, D6 of PCR plate on Temperature Module on 10, E6 of PCR plate on Temperature Module on 10, F6 of PCR plate on Temperature Module on 10, G6 of PCR plate on Temperature Module on 10, H6 of PCR plate on Temperature Module on 10]\n",
      "A6 of PCR plate on Temperature Module on 10\n",
      "B6 of PCR plate on Temperature Module on 10\n",
      "C6 of PCR plate on Temperature Module on 10\n",
      "D6 of PCR plate on Temperature Module on 10\n",
      "vblock = 1\n",
      "col = [A7 of PCR plate on Temperature Module on 10, B7 of PCR plate on Temperature Module on 10, C7 of PCR plate on Temperature Module on 10, D7 of PCR plate on Temperature Module on 10, E7 of PCR plate on Temperature Module on 10, F7 of PCR plate on Temperature Module on 10, G7 of PCR plate on Temperature Module on 10, H7 of PCR plate on Temperature Module on 10]\n",
      "A7 of PCR plate on Temperature Module on 10\n",
      "B7 of PCR plate on Temperature Module on 10\n",
      "C7 of PCR plate on Temperature Module on 10\n",
      "D7 of PCR plate on Temperature Module on 10\n",
      "col = [A8 of PCR plate on Temperature Module on 10, B8 of PCR plate on Temperature Module on 10, C8 of PCR plate on Temperature Module on 10, D8 of PCR plate on Temperature Module on 10, E8 of PCR plate on Temperature Module on 10, F8 of PCR plate on Temperature Module on 10, G8 of PCR plate on Temperature Module on 10, H8 of PCR plate on Temperature Module on 10]\n",
      "A8 of PCR plate on Temperature Module on 10\n",
      "B8 of PCR plate on Temperature Module on 10\n",
      "C8 of PCR plate on Temperature Module on 10\n",
      "D8 of PCR plate on Temperature Module on 10\n",
      "col = [A9 of PCR plate on Temperature Module on 10, B9 of PCR plate on Temperature Module on 10, C9 of PCR plate on Temperature Module on 10, D9 of PCR plate on Temperature Module on 10, E9 of PCR plate on Temperature Module on 10, F9 of PCR plate on Temperature Module on 10, G9 of PCR plate on Temperature Module on 10, H9 of PCR plate on Temperature Module on 10]\n",
      "A9 of PCR plate on Temperature Module on 10\n",
      "B9 of PCR plate on Temperature Module on 10\n",
      "C9 of PCR plate on Temperature Module on 10\n",
      "D9 of PCR plate on Temperature Module on 10\n",
      "col = [A10 of PCR plate on Temperature Module on 10, B10 of PCR plate on Temperature Module on 10, C10 of PCR plate on Temperature Module on 10, D10 of PCR plate on Temperature Module on 10, E10 of PCR plate on Temperature Module on 10, F10 of PCR plate on Temperature Module on 10, G10 of PCR plate on Temperature Module on 10, H10 of PCR plate on Temperature Module on 10]\n",
      "A10 of PCR plate on Temperature Module on 10\n",
      "B10 of PCR plate on Temperature Module on 10\n",
      "C10 of PCR plate on Temperature Module on 10\n",
      "D10 of PCR plate on Temperature Module on 10\n",
      "col = [A11 of PCR plate on Temperature Module on 10, B11 of PCR plate on Temperature Module on 10, C11 of PCR plate on Temperature Module on 10, D11 of PCR plate on Temperature Module on 10, E11 of PCR plate on Temperature Module on 10, F11 of PCR plate on Temperature Module on 10, G11 of PCR plate on Temperature Module on 10, H11 of PCR plate on Temperature Module on 10]\n",
      "A11 of PCR plate on Temperature Module on 10\n",
      "B11 of PCR plate on Temperature Module on 10\n",
      "C11 of PCR plate on Temperature Module on 10\n",
      "D11 of PCR plate on Temperature Module on 10\n",
      "col = [A12 of PCR plate on Temperature Module on 10, B12 of PCR plate on Temperature Module on 10, C12 of PCR plate on Temperature Module on 10, D12 of PCR plate on Temperature Module on 10, E12 of PCR plate on Temperature Module on 10, F12 of PCR plate on Temperature Module on 10, G12 of PCR plate on Temperature Module on 10, H12 of PCR plate on Temperature Module on 10]\n",
      "A12 of PCR plate on Temperature Module on 10\n",
      "B12 of PCR plate on Temperature Module on 10\n",
      "C12 of PCR plate on Temperature Module on 10\n",
      "D12 of PCR plate on Temperature Module on 10\n",
      "hblock = 1\n",
      "vblock = 0\n",
      "col = [A1 of PCR plate on Temperature Module on 10, B1 of PCR plate on Temperature Module on 10, C1 of PCR plate on Temperature Module on 10, D1 of PCR plate on Temperature Module on 10, E1 of PCR plate on Temperature Module on 10, F1 of PCR plate on Temperature Module on 10, G1 of PCR plate on Temperature Module on 10, H1 of PCR plate on Temperature Module on 10]\n",
      "E1 of PCR plate on Temperature Module on 10\n",
      "F1 of PCR plate on Temperature Module on 10\n",
      "G1 of PCR plate on Temperature Module on 10\n",
      "H1 of PCR plate on Temperature Module on 10\n",
      "col = [A2 of PCR plate on Temperature Module on 10, B2 of PCR plate on Temperature Module on 10, C2 of PCR plate on Temperature Module on 10, D2 of PCR plate on Temperature Module on 10, E2 of PCR plate on Temperature Module on 10, F2 of PCR plate on Temperature Module on 10, G2 of PCR plate on Temperature Module on 10, H2 of PCR plate on Temperature Module on 10]\n",
      "E2 of PCR plate on Temperature Module on 10\n",
      "F2 of PCR plate on Temperature Module on 10\n",
      "G2 of PCR plate on Temperature Module on 10\n",
      "H2 of PCR plate on Temperature Module on 10\n",
      "col = [A3 of PCR plate on Temperature Module on 10, B3 of PCR plate on Temperature Module on 10, C3 of PCR plate on Temperature Module on 10, D3 of PCR plate on Temperature Module on 10, E3 of PCR plate on Temperature Module on 10, F3 of PCR plate on Temperature Module on 10, G3 of PCR plate on Temperature Module on 10, H3 of PCR plate on Temperature Module on 10]\n",
      "E3 of PCR plate on Temperature Module on 10\n",
      "F3 of PCR plate on Temperature Module on 10\n",
      "G3 of PCR plate on Temperature Module on 10\n",
      "H3 of PCR plate on Temperature Module on 10\n",
      "col = [A4 of PCR plate on Temperature Module on 10, B4 of PCR plate on Temperature Module on 10, C4 of PCR plate on Temperature Module on 10, D4 of PCR plate on Temperature Module on 10, E4 of PCR plate on Temperature Module on 10, F4 of PCR plate on Temperature Module on 10, G4 of PCR plate on Temperature Module on 10, H4 of PCR plate on Temperature Module on 10]\n",
      "E4 of PCR plate on Temperature Module on 10\n",
      "F4 of PCR plate on Temperature Module on 10\n",
      "G4 of PCR plate on Temperature Module on 10\n",
      "H4 of PCR plate on Temperature Module on 10\n",
      "col = [A5 of PCR plate on Temperature Module on 10, B5 of PCR plate on Temperature Module on 10, C5 of PCR plate on Temperature Module on 10, D5 of PCR plate on Temperature Module on 10, E5 of PCR plate on Temperature Module on 10, F5 of PCR plate on Temperature Module on 10, G5 of PCR plate on Temperature Module on 10, H5 of PCR plate on Temperature Module on 10]\n",
      "E5 of PCR plate on Temperature Module on 10\n",
      "F5 of PCR plate on Temperature Module on 10\n",
      "G5 of PCR plate on Temperature Module on 10\n",
      "H5 of PCR plate on Temperature Module on 10\n",
      "col = [A6 of PCR plate on Temperature Module on 10, B6 of PCR plate on Temperature Module on 10, C6 of PCR plate on Temperature Module on 10, D6 of PCR plate on Temperature Module on 10, E6 of PCR plate on Temperature Module on 10, F6 of PCR plate on Temperature Module on 10, G6 of PCR plate on Temperature Module on 10, H6 of PCR plate on Temperature Module on 10]\n",
      "E6 of PCR plate on Temperature Module on 10\n",
      "F6 of PCR plate on Temperature Module on 10\n",
      "G6 of PCR plate on Temperature Module on 10\n",
      "H6 of PCR plate on Temperature Module on 10\n",
      "vblock = 1\n",
      "col = [A7 of PCR plate on Temperature Module on 10, B7 of PCR plate on Temperature Module on 10, C7 of PCR plate on Temperature Module on 10, D7 of PCR plate on Temperature Module on 10, E7 of PCR plate on Temperature Module on 10, F7 of PCR plate on Temperature Module on 10, G7 of PCR plate on Temperature Module on 10, H7 of PCR plate on Temperature Module on 10]\n",
      "E7 of PCR plate on Temperature Module on 10\n",
      "F7 of PCR plate on Temperature Module on 10\n",
      "G7 of PCR plate on Temperature Module on 10\n",
      "H7 of PCR plate on Temperature Module on 10\n",
      "col = [A8 of PCR plate on Temperature Module on 10, B8 of PCR plate on Temperature Module on 10, C8 of PCR plate on Temperature Module on 10, D8 of PCR plate on Temperature Module on 10, E8 of PCR plate on Temperature Module on 10, F8 of PCR plate on Temperature Module on 10, G8 of PCR plate on Temperature Module on 10, H8 of PCR plate on Temperature Module on 10]\n",
      "E8 of PCR plate on Temperature Module on 10\n",
      "F8 of PCR plate on Temperature Module on 10\n",
      "G8 of PCR plate on Temperature Module on 10\n",
      "H8 of PCR plate on Temperature Module on 10\n",
      "col = [A9 of PCR plate on Temperature Module on 10, B9 of PCR plate on Temperature Module on 10, C9 of PCR plate on Temperature Module on 10, D9 of PCR plate on Temperature Module on 10, E9 of PCR plate on Temperature Module on 10, F9 of PCR plate on Temperature Module on 10, G9 of PCR plate on Temperature Module on 10, H9 of PCR plate on Temperature Module on 10]\n",
      "E9 of PCR plate on Temperature Module on 10\n",
      "F9 of PCR plate on Temperature Module on 10\n",
      "G9 of PCR plate on Temperature Module on 10\n",
      "H9 of PCR plate on Temperature Module on 10\n",
      "col = [A10 of PCR plate on Temperature Module on 10, B10 of PCR plate on Temperature Module on 10, C10 of PCR plate on Temperature Module on 10, D10 of PCR plate on Temperature Module on 10, E10 of PCR plate on Temperature Module on 10, F10 of PCR plate on Temperature Module on 10, G10 of PCR plate on Temperature Module on 10, H10 of PCR plate on Temperature Module on 10]\n",
      "E10 of PCR plate on Temperature Module on 10\n",
      "F10 of PCR plate on Temperature Module on 10\n",
      "G10 of PCR plate on Temperature Module on 10\n",
      "H10 of PCR plate on Temperature Module on 10\n",
      "col = [A11 of PCR plate on Temperature Module on 10, B11 of PCR plate on Temperature Module on 10, C11 of PCR plate on Temperature Module on 10, D11 of PCR plate on Temperature Module on 10, E11 of PCR plate on Temperature Module on 10, F11 of PCR plate on Temperature Module on 10, G11 of PCR plate on Temperature Module on 10, H11 of PCR plate on Temperature Module on 10]\n",
      "E11 of PCR plate on Temperature Module on 10\n",
      "F11 of PCR plate on Temperature Module on 10\n",
      "G11 of PCR plate on Temperature Module on 10\n",
      "H11 of PCR plate on Temperature Module on 10\n",
      "col = [A12 of PCR plate on Temperature Module on 10, B12 of PCR plate on Temperature Module on 10, C12 of PCR plate on Temperature Module on 10, D12 of PCR plate on Temperature Module on 10, E12 of PCR plate on Temperature Module on 10, F12 of PCR plate on Temperature Module on 10, G12 of PCR plate on Temperature Module on 10, H12 of PCR plate on Temperature Module on 10]\n",
      "E12 of PCR plate on Temperature Module on 10\n",
      "F12 of PCR plate on Temperature Module on 10\n",
      "G12 of PCR plate on Temperature Module on 10\n",
      "H12 of PCR plate on Temperature Module on 10\n"
     ]
    }
   ],
   "source": [
    "dests = list()\n",
    "for h_block in range(2):\n",
    "    print(\"hblock = \" + str(h_block))\n",
    "    for v_block in range(2):\n",
    "        print(\"vblock = \" + str(v_block))\n",
    "        for col in pcr_plate.columns()[6*v_block:6*(v_block+1)]:\n",
    "            print(\"col = \" + str(col))\n",
    "            for well in col[4*h_block:4*(h_block+1)]:\n",
    "                print(well)\n",
    "                dests.append(well)\n",
    "dests = dests[:NUM_SAMPLES] "
   ]
  },
  {
   "cell_type": "code",
   "execution_count": 38,
   "metadata": {},
   "outputs": [
    {
     "data": {
      "text/plain": [
       "[[A1 of PCR plate on Temperature Module on 10,\n",
       "  B1 of PCR plate on Temperature Module on 10,\n",
       "  C1 of PCR plate on Temperature Module on 10,\n",
       "  D1 of PCR plate on Temperature Module on 10,\n",
       "  A2 of PCR plate on Temperature Module on 10,\n",
       "  B2 of PCR plate on Temperature Module on 10,\n",
       "  C2 of PCR plate on Temperature Module on 10,\n",
       "  D2 of PCR plate on Temperature Module on 10],\n",
       " [A3 of PCR plate on Temperature Module on 10,\n",
       "  B3 of PCR plate on Temperature Module on 10,\n",
       "  C3 of PCR plate on Temperature Module on 10,\n",
       "  D3 of PCR plate on Temperature Module on 10,\n",
       "  A4 of PCR plate on Temperature Module on 10,\n",
       "  B4 of PCR plate on Temperature Module on 10,\n",
       "  C4 of PCR plate on Temperature Module on 10,\n",
       "  D4 of PCR plate on Temperature Module on 10],\n",
       " [A5 of PCR plate on Temperature Module on 10,\n",
       "  B5 of PCR plate on Temperature Module on 10,\n",
       "  C5 of PCR plate on Temperature Module on 10,\n",
       "  D5 of PCR plate on Temperature Module on 10,\n",
       "  A6 of PCR plate on Temperature Module on 10,\n",
       "  B6 of PCR plate on Temperature Module on 10,\n",
       "  C6 of PCR plate on Temperature Module on 10,\n",
       "  D6 of PCR plate on Temperature Module on 10],\n",
       " [A7 of PCR plate on Temperature Module on 10,\n",
       "  B7 of PCR plate on Temperature Module on 10,\n",
       "  C7 of PCR plate on Temperature Module on 10,\n",
       "  D7 of PCR plate on Temperature Module on 10,\n",
       "  A8 of PCR plate on Temperature Module on 10,\n",
       "  B8 of PCR plate on Temperature Module on 10,\n",
       "  C8 of PCR plate on Temperature Module on 10,\n",
       "  D8 of PCR plate on Temperature Module on 10],\n",
       " [A9 of PCR plate on Temperature Module on 10,\n",
       "  B9 of PCR plate on Temperature Module on 10,\n",
       "  C9 of PCR plate on Temperature Module on 10,\n",
       "  D9 of PCR plate on Temperature Module on 10,\n",
       "  A10 of PCR plate on Temperature Module on 10,\n",
       "  B10 of PCR plate on Temperature Module on 10,\n",
       "  C10 of PCR plate on Temperature Module on 10,\n",
       "  D10 of PCR plate on Temperature Module on 10],\n",
       " [A11 of PCR plate on Temperature Module on 10,\n",
       "  B11 of PCR plate on Temperature Module on 10,\n",
       "  C11 of PCR plate on Temperature Module on 10,\n",
       "  D11 of PCR plate on Temperature Module on 10,\n",
       "  A12 of PCR plate on Temperature Module on 10,\n",
       "  B12 of PCR plate on Temperature Module on 10,\n",
       "  C12 of PCR plate on Temperature Module on 10,\n",
       "  D12 of PCR plate on Temperature Module on 10]]"
      ]
     },
     "execution_count": 38,
     "metadata": {},
     "output_type": "execute_result"
    }
   ],
   "source": [
    "max_trans_per_asp = 8\n",
    "#print(max_trans_per_asp)\n",
    "split_ind = [ind for ind in range(0, NUM_SAMPLES, max_trans_per_asp)]\n",
    "dest_sets = [dests[split_ind[i]:split_ind[i+1]]\n",
    "                 for i in range(len(split_ind)-1)] + [dests[split_ind[-1]:]]\n",
    "\n",
    "dest_sets"
   ]
  }
 ],
 "metadata": {
  "kernelspec": {
   "display_name": "Python 3",
   "language": "python",
   "name": "python3"
  },
  "language_info": {
   "codemirror_mode": {
    "name": "ipython",
    "version": 3
   },
   "file_extension": ".py",
   "mimetype": "text/x-python",
   "name": "python",
   "nbconvert_exporter": "python",
   "pygments_lexer": "ipython3",
   "version": "3.7.6"
  }
 },
 "nbformat": 4,
 "nbformat_minor": 4
}
